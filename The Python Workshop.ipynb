{
 "cells": [
  {
   "cell_type": "markdown",
   "id": "fa576cf9",
   "metadata": {},
   "source": [
    "### 矩陣操作"
   ]
  },
  {
   "cell_type": "code",
   "execution_count": 1,
   "id": "8b80d88a",
   "metadata": {},
   "outputs": [
    {
     "data": {
      "text/plain": [
       "[[1, 2, 3], [4, 5, 6], [7, 8, 9]]"
      ]
     },
     "execution_count": 1,
     "metadata": {},
     "output_type": "execute_result"
    }
   ],
   "source": [
    "m=[[1,2,3],\n",
    "  [4,5,6],\n",
    "  [7,8,9]]\n",
    "\n",
    "m"
   ]
  },
  {
   "cell_type": "code",
   "execution_count": 2,
   "id": "0adb91bd",
   "metadata": {},
   "outputs": [
    {
     "data": {
      "text/plain": [
       "[[10, 11, 12], [20, 21, 22], [30, 31, 32]]"
      ]
     },
     "execution_count": 2,
     "metadata": {},
     "output_type": "execute_result"
    }
   ],
   "source": [
    "n=[[10,11,12],\n",
    "  [20,21,22],\n",
    "  [30,31,32]]\n",
    "\n",
    "n"
   ]
  },
  {
   "cell_type": "code",
   "execution_count": 3,
   "id": "0320d474",
   "metadata": {},
   "outputs": [
    {
     "data": {
      "text/plain": [
       "[[0, 0, 0], [0, 0, 0], [0, 0, 0]]"
      ]
     },
     "execution_count": 3,
     "metadata": {},
     "output_type": "execute_result"
    }
   ],
   "source": [
    "result=[[0]*3,[0]*3,[0]*3]\n",
    "result"
   ]
  },
  {
   "cell_type": "code",
   "execution_count": 4,
   "id": "b6c128b5",
   "metadata": {},
   "outputs": [
    {
     "data": {
      "text/plain": [
       "[[11, 13, 15], [24, 26, 28], [37, 39, 41]]"
      ]
     },
     "execution_count": 4,
     "metadata": {},
     "output_type": "execute_result"
    }
   ],
   "source": [
    "for i in range(len(m)):   \n",
    "    for j in range(len(m[i])):\n",
    "        result[i][j]=m[i][j]+n[i][j]\n",
    "\n",
    "result"
   ]
  },
  {
   "cell_type": "markdown",
   "id": "37e5afb3",
   "metadata": {},
   "source": [
    "### 不同長度的處理方式  \n",
    "- n*m"
   ]
  },
  {
   "cell_type": "code",
   "execution_count": 5,
   "id": "aa85759c",
   "metadata": {},
   "outputs": [
    {
     "data": {
      "text/plain": [
       "([[1, 2], [4, 5], [3, 6]], [[1, 2, 3, 4], [5, 6, 7, 8]])"
      ]
     },
     "execution_count": 5,
     "metadata": {},
     "output_type": "execute_result"
    }
   ],
   "source": [
    "m=[[1,2],\n",
    "  [4,5],\n",
    "  [3,6]]\n",
    "\n",
    "n=[[1,2,3,4],\n",
    "  [5,6,7,8]]\n",
    "\n",
    "m,n"
   ]
  },
  {
   "cell_type": "code",
   "execution_count": 6,
   "id": "f29745a4",
   "metadata": {},
   "outputs": [
    {
     "data": {
      "text/plain": [
       "[[0, 0, 0, 0], [0, 0, 0, 0], [0, 0, 0, 0]]"
      ]
     },
     "execution_count": 6,
     "metadata": {},
     "output_type": "execute_result"
    }
   ],
   "source": [
    "result=[[0]*4,[0]*4,[0]*4]\n",
    "result"
   ]
  },
  {
   "cell_type": "code",
   "execution_count": 7,
   "id": "a889210c",
   "metadata": {},
   "outputs": [
    {
     "data": {
      "text/plain": [
       "[[11, 14, 17, 20], [29, 38, 47, 56], [33, 42, 51, 60]]"
      ]
     },
     "execution_count": 7,
     "metadata": {},
     "output_type": "execute_result"
    }
   ],
   "source": [
    "for i in range(len(m)):\n",
    "    for j in range(len(n[0])):\n",
    "        for k in range(len(n)):\n",
    "            result[i][j]+=n[k][j]*m[i][k]\n",
    "\n",
    "result    "
   ]
  },
  {
   "cell_type": "markdown",
   "id": "4fde33bf",
   "metadata": {},
   "source": [
    "### 使用zip  進行資料轉換  \n",
    "- 取值結束(迭代器結束，將不保留值)"
   ]
  },
  {
   "cell_type": "code",
   "execution_count": 8,
   "id": "f075c393",
   "metadata": {},
   "outputs": [],
   "source": [
    "items=['apple','orange','banana']\n",
    "quantity=[5,3,2]"
   ]
  },
  {
   "cell_type": "code",
   "execution_count": 9,
   "id": "41d42d25",
   "metadata": {},
   "outputs": [
    {
     "data": {
      "text/plain": [
       "<zip at 0x1dcd1ac5a80>"
      ]
     },
     "execution_count": 9,
     "metadata": {},
     "output_type": "execute_result"
    }
   ],
   "source": [
    "orders=zip(items,quantity)\n",
    "orders"
   ]
  },
  {
   "cell_type": "code",
   "execution_count": 10,
   "id": "a9cfa0eb",
   "metadata": {},
   "outputs": [
    {
     "data": {
      "text/plain": [
       "[('apple', 5), ('orange', 3), ('banana', 2)]"
      ]
     },
     "execution_count": 10,
     "metadata": {},
     "output_type": "execute_result"
    }
   ],
   "source": [
    "list(orders)"
   ]
  },
  {
   "cell_type": "code",
   "execution_count": 11,
   "id": "56f0b1e4",
   "metadata": {},
   "outputs": [
    {
     "data": {
      "text/plain": [
       "{'apple': 5, 'orange': 3, 'banana': 2}"
      ]
     },
     "execution_count": 11,
     "metadata": {},
     "output_type": "execute_result"
    }
   ],
   "source": [
    "orders=zip(items,quantity)\n",
    "dict(orders)"
   ]
  },
  {
   "cell_type": "markdown",
   "id": "06d46587",
   "metadata": {},
   "source": [
    "### set 中的聯集跟交集  \n",
    "- 聯集(不重複)\n",
    "- 交集(重複)"
   ]
  },
  {
   "cell_type": "code",
   "execution_count": 12,
   "id": "37416de3",
   "metadata": {},
   "outputs": [],
   "source": [
    "x={1,2,3,4}\n",
    "y={4,5,6,7}"
   ]
  },
  {
   "cell_type": "code",
   "execution_count": 13,
   "id": "d8e87e8e",
   "metadata": {},
   "outputs": [
    {
     "data": {
      "text/plain": [
       "{1, 2, 3, 4, 5, 6, 7}"
      ]
     },
     "execution_count": 13,
     "metadata": {},
     "output_type": "execute_result"
    }
   ],
   "source": [
    "x|y"
   ]
  },
  {
   "cell_type": "code",
   "execution_count": 14,
   "id": "bab90be5",
   "metadata": {
    "scrolled": true
   },
   "outputs": [
    {
     "data": {
      "text/plain": [
       "{1, 2, 3, 4, 5, 6, 7}"
      ]
     },
     "execution_count": 14,
     "metadata": {},
     "output_type": "execute_result"
    }
   ],
   "source": [
    "x.union(y)"
   ]
  },
  {
   "cell_type": "markdown",
   "id": "59b09f34",
   "metadata": {},
   "source": [
    "#### 交集"
   ]
  },
  {
   "cell_type": "code",
   "execution_count": 15,
   "id": "4ba8791f",
   "metadata": {},
   "outputs": [
    {
     "data": {
      "text/plain": [
       "{4}"
      ]
     },
     "execution_count": 15,
     "metadata": {},
     "output_type": "execute_result"
    }
   ],
   "source": [
    "x&y"
   ]
  },
  {
   "cell_type": "code",
   "execution_count": 16,
   "id": "8e45eb63",
   "metadata": {
    "scrolled": true
   },
   "outputs": [
    {
     "data": {
      "text/plain": [
       "{4}"
      ]
     },
     "execution_count": 16,
     "metadata": {},
     "output_type": "execute_result"
    }
   ],
   "source": [
    "x.intersection(y)"
   ]
  },
  {
   "cell_type": "markdown",
   "id": "353b2d5b",
   "metadata": {},
   "source": [
    "#### 差異性"
   ]
  },
  {
   "cell_type": "code",
   "execution_count": 17,
   "id": "9c1a7333",
   "metadata": {},
   "outputs": [
    {
     "data": {
      "text/plain": [
       "{1, 2, 3}"
      ]
     },
     "execution_count": 17,
     "metadata": {},
     "output_type": "execute_result"
    }
   ],
   "source": [
    "x-y"
   ]
  },
  {
   "cell_type": "code",
   "execution_count": 18,
   "id": "2dd2bfd7",
   "metadata": {},
   "outputs": [
    {
     "data": {
      "text/plain": [
       "{5, 6, 7}"
      ]
     },
     "execution_count": 18,
     "metadata": {},
     "output_type": "execute_result"
    }
   ],
   "source": [
    "y-x"
   ]
  },
  {
   "cell_type": "markdown",
   "id": "0a649a48",
   "metadata": {},
   "source": [
    "### 更改jupyter theme  \n",
    "- https://medium.com/analytics-vidhya/set-up-some-cool-jupyter-themes-jupyter-b493baed47b7"
   ]
  },
  {
   "cell_type": "markdown",
   "id": "38a3df10",
   "metadata": {},
   "source": [
    "### 撰寫module.py  \n",
    "- docstring\n",
    "- 在module or function第一行撰寫說明"
   ]
  },
  {
   "cell_type": "markdown",
   "id": "14bf9cff",
   "metadata": {},
   "source": [
    "### 排序法\n",
    "- 氣泡排序法"
   ]
  },
  {
   "cell_type": "code",
   "execution_count": 19,
   "id": "d7c11096",
   "metadata": {},
   "outputs": [
    {
     "data": {
      "text/plain": [
       "[-1000, -100, 0, 1, 10, 33, 45, 45, 56]"
      ]
     },
     "execution_count": 19,
     "metadata": {},
     "output_type": "execute_result"
    }
   ],
   "source": [
    "x=[1,10,33,-100,45,45,56,-1000,0]\n",
    "\n",
    "sorted(x)"
   ]
  },
  {
   "cell_type": "code",
   "execution_count": 20,
   "id": "6635df8e",
   "metadata": {},
   "outputs": [
    {
     "data": {
      "text/plain": [
       "([-1000, -100, 0, 1, 10, 33, 45, 45, 56], 16)"
      ]
     },
     "execution_count": 20,
     "metadata": {},
     "output_type": "execute_result"
    }
   ],
   "source": [
    "is_done=False\n",
    "count=0\n",
    "while not is_done:\n",
    "    is_done=True\n",
    "    for i in range(len(x)-1):\n",
    "        if x[i]>x[i+1]:\n",
    "            x[i],x[i+1]=x[i+1],x[i]\n",
    "            is_done=False\n",
    "            count+=1\n",
    "x,count\n"
   ]
  },
  {
   "cell_type": "code",
   "execution_count": 21,
   "id": "2885dbc0",
   "metadata": {},
   "outputs": [
    {
     "data": {
      "text/plain": [
       "([-1000, -100, 0, 1, 10, 33, 45, 45, 56], 16)"
      ]
     },
     "execution_count": 21,
     "metadata": {},
     "output_type": "execute_result"
    }
   ],
   "source": [
    "is_done=False\n",
    "for i in range(len(x)):\n",
    "    is_done=True\n",
    "    for j in range(i+1,len(x)):        \n",
    "          if x[i]>x[j]:                \n",
    "                x[i],x[j]=x[j],x[i]\n",
    "                is_done=False                \n",
    "    if is_done:\n",
    "        break    \n",
    "x,count"
   ]
  },
  {
   "cell_type": "markdown",
   "id": "a203deb7",
   "metadata": {},
   "source": [
    "### 二分搜尋法  \n",
    "- 先進行排序"
   ]
  },
  {
   "cell_type": "code",
   "execution_count": 2,
   "id": "e74b2e80",
   "metadata": {},
   "outputs": [
    {
     "data": {
      "text/plain": [
       "[-1000, -100, 0, 1, 10, 33, 45, 45, 56]"
      ]
     },
     "execution_count": 2,
     "metadata": {},
     "output_type": "execute_result"
    }
   ],
   "source": [
    "x=[1,10,33,-100,45,45,56,-1000,0]\n",
    "x.sort()\n",
    "x"
   ]
  },
  {
   "cell_type": "code",
   "execution_count": 8,
   "id": "c8ca712b",
   "metadata": {},
   "outputs": [
    {
     "data": {
      "text/plain": [
       "(0, 8, 4, -10)"
      ]
     },
     "execution_count": 8,
     "metadata": {},
     "output_type": "execute_result"
    }
   ],
   "source": [
    "low,high=0,len(x)-1\n",
    "search_for=-10\n",
    "pos=(high-low)//2\n",
    "low,high,pos,search_for"
   ]
  },
  {
   "cell_type": "code",
   "execution_count": 10,
   "id": "f3bee2f7",
   "metadata": {},
   "outputs": [
    {
     "name": "stdout",
     "output_type": "stream",
     "text": [
      "not found\n"
     ]
    }
   ],
   "source": [
    "found=False\n",
    "while low<=high and not found:\n",
    "    pos=(high-low)//2    \n",
    "    if x[pos]==search_for:\n",
    "        found=True\n",
    "    else:\n",
    "        if x[pos]<search_for:\n",
    "            high=pos-1\n",
    "        else:\n",
    "            low=pos+1\n",
    "    \n",
    "if found:\n",
    "    print(f'found=>{pos}')\n",
    "else:\n",
    "    print(f'not found')\n",
    "        \n",
    "   \n",
    "    \n",
    "    "
   ]
  },
  {
   "cell_type": "code",
   "execution_count": null,
   "id": "b8749a80",
   "metadata": {},
   "outputs": [],
   "source": []
  }
 ],
 "metadata": {
  "kernelspec": {
   "display_name": "Python 3",
   "language": "python",
   "name": "python3"
  },
  "language_info": {
   "codemirror_mode": {
    "name": "ipython",
    "version": 3
   },
   "file_extension": ".py",
   "mimetype": "text/x-python",
   "name": "python",
   "nbconvert_exporter": "python",
   "pygments_lexer": "ipython3",
   "version": "3.8.8"
  }
 },
 "nbformat": 4,
 "nbformat_minor": 5
}
